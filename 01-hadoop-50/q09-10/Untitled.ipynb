{
 "cells": [
  {
   "cell_type": "code",
   "execution_count": 11,
   "metadata": {},
   "outputs": [
    {
     "name": "stdout",
     "output_type": "stream",
     "text": [
      "C\t1994-07-2\t1\n",
      "C\t1991-02-1\t2\n",
      "A\t1990-07-2\t4\n",
      "A\t1990-09-2\t5\n",
      "B\t1997-04-0\t6\n"
     ]
    }
   ],
   "source": [
    "!cat data.csv | python3 mapper.py | sort |  python3 reducer.py"
   ]
  },
  {
   "cell_type": "code",
   "execution_count": null,
   "metadata": {},
   "outputs": [
    {
     "name": "stdout",
     "output_type": "stream",
     "text": [
      "**********************************************************************\n",
      "File \"grader.py\", line 4, in __main__\n",
      "Failed example:\n",
      "    run_answer() # doctest: +NORMALIZE_WHITESPACE\n",
      "Expected:\n",
      "    C   1994-07-27   1      \n",
      "    C   1991-02-12   2      \n",
      "    A   1990-07-22   4      \n",
      "    A   1990-09-26   5      \n",
      "    B   1997-04-09   6      \n",
      "    E   1998-09-14   7\n",
      "    <BLANKLINE>\n",
      "Got:\n",
      "    C   1994-07-2   1\n",
      "    C   1991-02-1   2\n",
      "    A   1990-07-2   4\n",
      "    A   1990-09-2   5\n",
      "    B   1997-04-0   6\n",
      "    E   1998-09-1   7\n",
      "    <BLANKLINE>\n",
      "**********************************************************************\n",
      "1 items had failures:\n",
      "   1 of   1 in __main__\n",
      "***Test Failed*** 1 failures.\n",
      "\n",
      "\n"
     ]
    }
   ],
   "source": [
    "!cat |python3 grader.py"
   ]
  },
  {
   "cell_type": "code",
   "execution_count": null,
   "metadata": {},
   "outputs": [],
   "source": []
  }
 ],
 "metadata": {
  "kernelspec": {
   "display_name": "Python 3",
   "language": "python",
   "name": "python3"
  },
  "language_info": {
   "codemirror_mode": {
    "name": "ipython",
    "version": 3
   },
   "file_extension": ".py",
   "mimetype": "text/x-python",
   "name": "python",
   "nbconvert_exporter": "python",
   "pygments_lexer": "ipython3",
   "version": "3.6.9"
  }
 },
 "nbformat": 4,
 "nbformat_minor": 4
}
